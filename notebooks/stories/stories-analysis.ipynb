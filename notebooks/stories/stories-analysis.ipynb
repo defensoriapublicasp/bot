{
 "cells": [
  {
   "cell_type": "markdown",
   "metadata": {
    "colab_type": "text",
    "id": "kO9wt2g3okLS"
   },
   "source": [
    "# Análise das Stories\n",
    "\n",
    "Notebook para o auxílio da análise das stories da Taís.\n"
   ]
  },
  {
   "cell_type": "markdown",
   "metadata": {},
   "source": [
    "### Configurando jupyter"
   ]
  },
  {
   "cell_type": "code",
   "execution_count": 1,
   "metadata": {},
   "outputs": [],
   "source": [
    "%matplotlib inline\n",
    "\n",
    "import logging, io, json, warnings\n",
    "logging.basicConfig(level=\"INFO\")\n",
    "warnings.filterwarnings('ignore')\n",
    "\n",
    "def pprint(o):\n",
    "    # small helper to make dict dumps a bit prettier\n",
    "    print(json.dumps(o, indent=2))"
   ]
  },
  {
   "cell_type": "code",
   "execution_count": 2,
   "metadata": {},
   "outputs": [
    {
     "name": "stdout",
     "output_type": "stream",
     "text": [
      "rasa_nlu: 0.14.1 rasa_core: 0.13.1\n"
     ]
    }
   ],
   "source": [
    "# Checking versions\n",
    "import rasa_nlu\n",
    "import rasa_core\n",
    "\n",
    "print(\"rasa_nlu: {} rasa_core: {}\".format(rasa_nlu.__version__, rasa_core.__version__))\n"
   ]
  },
  {
   "cell_type": "markdown",
   "metadata": {
    "colab_type": "text",
    "id": "tK5os3OinphP"
   },
   "source": [
    "# Análise e Avaliação das Stories"
   ]
  },
  {
   "cell_type": "markdown",
   "metadata": {
    "colab_type": "text",
    "id": "qWALQbCdwGxK"
   },
   "source": [
    "### Gerando imagens de fluxo\n",
    "\n",
    "Gerando os arquivos de imagem para a visualização e avaliação do fluxo das stories. A célula abaixo gera uma imagem para cada arquivo de stories. \n",
    "Para ver as imagens geradas acessa a pasta `img` deste notebook."
   ]
  },
  {
   "cell_type": "code",
   "execution_count": 7,
   "metadata": {},
   "outputs": [
    {
     "name": "stdout",
     "output_type": "stream",
     "text": [
      "2019-04-27 21:59:47 \u001b[1;30mINFO    \u001b[0m \u001b[34m__main__\u001b[0m  - Starting to visualize stories...\n",
      "2019-04-27 21:59:47 \u001b[1;30mWARNING \u001b[0m \u001b[34mrasa_core.training.dsl\u001b[0m  - \u001b[33mFound unknown intent 'afirmar' on line 27. Please, make sure that all intents are listed in your domain yaml.\u001b[0m\n",
      "2019-04-27 21:59:47 \u001b[1;30mWARNING \u001b[0m \u001b[34mrasa_core.training.dsl\u001b[0m  - \u001b[33mFound unknown intent 'afirmar' on line 51. Please, make sure that all intents are listed in your domain yaml.\u001b[0m\n",
      "2019-04-27 21:59:47 \u001b[1;30mWARNING \u001b[0m \u001b[34mrasa_core.training.dsl\u001b[0m  - \u001b[33mFound unknown intent 'afirmar' on line 57. Please, make sure that all intents are listed in your domain yaml.\u001b[0m\n",
      "2019-04-27 21:59:47 \u001b[1;30mWARNING \u001b[0m \u001b[34mrasa_core.interpreter\u001b[0m  - \u001b[33mInvalid to parse arguments in line 'slot{\"cidade\",\"São Paulo\"}'. Failed to decode parametersas a json object. Make sure the intentfollowed by a proper json object. Error: Expecting ':' delimiter: line 1 column 10 (char 9)\u001b[0m\n",
      "2019-04-27 21:59:47 \u001b[1;30mWARNING \u001b[0m \u001b[34mrasa_core.training.dsl\u001b[0m  - \u001b[33mFound unknown intent 'slot' on line 59. Please, make sure that all intents are listed in your domain yaml.\u001b[0m\n",
      "2019-04-27 21:59:47 \u001b[1;30mWARNING \u001b[0m \u001b[34mrasa_core.training.dsl\u001b[0m  - \u001b[33mFound unknown intent 'afirmar' on line 63. Please, make sure that all intents are listed in your domain yaml.\u001b[0m\n",
      "2019-04-27 21:59:47 \u001b[1;30mWARNING \u001b[0m \u001b[34mrasa_core.interpreter\u001b[0m  - \u001b[33mInvalid to parse arguments in line 'slot{\"cidade\",\"São Paulo\"}'. Failed to decode parametersas a json object. Make sure the intentfollowed by a proper json object. Error: Expecting ':' delimiter: line 1 column 10 (char 9)\u001b[0m\n",
      "2019-04-27 21:59:47 \u001b[1;30mWARNING \u001b[0m \u001b[34mrasa_core.training.dsl\u001b[0m  - \u001b[33mFound unknown intent 'slot' on line 65. Please, make sure that all intents are listed in your domain yaml.\u001b[0m\n",
      "2019-04-27 21:59:47 \u001b[1;30mWARNING \u001b[0m \u001b[34mrasa_core.training.dsl\u001b[0m  - \u001b[33mFound unknown intent 'afirmar' on line 67. Please, make sure that all intents are listed in your domain yaml.\u001b[0m\n",
      "2019-04-27 21:59:47 \u001b[1;30mWARNING \u001b[0m \u001b[34mrasa_core.training.dsl\u001b[0m  - \u001b[33mFound unknown intent 'afirmar' on line 71. Please, make sure that all intents are listed in your domain yaml.\u001b[0m\n",
      "2019-04-27 21:59:47 \u001b[1;30mWARNING \u001b[0m \u001b[34mrasa_core.interpreter\u001b[0m  - \u001b[33mInvalid to parse arguments in line 'slot{\"cidade\",\"São Paulo\"}'. Failed to decode parametersas a json object. Make sure the intentfollowed by a proper json object. Error: Expecting ':' delimiter: line 1 column 10 (char 9)\u001b[0m\n",
      "2019-04-27 21:59:47 \u001b[1;30mWARNING \u001b[0m \u001b[34mrasa_core.training.dsl\u001b[0m  - \u001b[33mFound unknown intent 'slot' on line 73. Please, make sure that all intents are listed in your domain yaml.\u001b[0m\n",
      "2019-04-27 21:59:47 \u001b[1;30mWARNING \u001b[0m \u001b[34mrasa_core.training.dsl\u001b[0m  - \u001b[33mFound unknown intent 'afirmar' on line 81. Please, make sure that all intents are listed in your domain yaml.\u001b[0m\n",
      "2019-04-27 21:59:47 \u001b[1;30mWARNING \u001b[0m \u001b[34mrasa_core.interpreter\u001b[0m  - \u001b[33mInvalid to parse arguments in line 'slot{\"cidade\",\"Piraporinho\"}'. Failed to decode parametersas a json object. Make sure the intentfollowed by a proper json object. Error: Expecting ':' delimiter: line 1 column 10 (char 9)\u001b[0m\n",
      "2019-04-27 21:59:47 \u001b[1;30mWARNING \u001b[0m \u001b[34mrasa_core.training.dsl\u001b[0m  - \u001b[33mFound unknown intent 'slot' on line 83. Please, make sure that all intents are listed in your domain yaml.\u001b[0m\n",
      "2019-04-27 21:59:47 \u001b[1;30mWARNING \u001b[0m \u001b[34mrasa_core.training.dsl\u001b[0m  - \u001b[33mFound unknown intent 'afirmar' on line 87. Please, make sure that all intents are listed in your domain yaml.\u001b[0m\n",
      "2019-04-27 21:59:47 \u001b[1;30mWARNING \u001b[0m \u001b[34mrasa_core.interpreter\u001b[0m  - \u001b[33mInvalid to parse arguments in line 'slot{\"cidade\",\"Piraporinho\"}'. Failed to decode parametersas a json object. Make sure the intentfollowed by a proper json object. Error: Expecting ':' delimiter: line 1 column 10 (char 9)\u001b[0m\n",
      "2019-04-27 21:59:47 \u001b[1;30mWARNING \u001b[0m \u001b[34mrasa_core.training.dsl\u001b[0m  - \u001b[33mFound unknown intent 'slot' on line 89. Please, make sure that all intents are listed in your domain yaml.\u001b[0m\n",
      "2019-04-27 21:59:47 \u001b[1;30mWARNING \u001b[0m \u001b[34mrasa_core.training.dsl\u001b[0m  - \u001b[33mFound unknown intent 'civel_defesa_agendamento' on line 127. Please, make sure that all intents are listed in your domain yaml.\u001b[0m\n",
      "2019-04-27 21:59:47 \u001b[1;30mWARNING \u001b[0m \u001b[34mrasa_core.training.dsl\u001b[0m  - \u001b[33mFound unknown intent 'civel_defesa_agendamento' on line 135. Please, make sure that all intents are listed in your domain yaml.\u001b[0m\n",
      "2019-04-27 21:59:47 \u001b[1;30mWARNING \u001b[0m \u001b[34mrasa_core.training.dsl\u001b[0m  - \u001b[33mFound unknown intent 'action_agendamento' on line 4. Please, make sure that all intents are listed in your domain yaml.\u001b[0m\n",
      "2019-04-27 21:59:47 \u001b[1;30mWARNING \u001b[0m \u001b[34mrasa_core.training.dsl\u001b[0m  - \u001b[33mFound unknown intent 'action_agendamento' on line 8. Please, make sure that all intents are listed in your domain yaml.\u001b[0m\n",
      "Processed Story Blocks: 100%|███| 31/31 [00:00<00:00, 4260.27it/s, # trackers=1]\n",
      "2019-04-27 21:59:47 \u001b[1;30mINFO    \u001b[0m \u001b[34m__main__\u001b[0m  - Finished graph creation. Saved into file:///work/notebooks/stories/graph.html\n"
     ]
    }
   ],
   "source": [
    "!python -m rasa_core.visualize -d ../../bot/domain.yml -s ../../bot/data/stories/ -o chat_graph.html"
   ]
  },
  {
   "cell_type": "code",
   "execution_count": 11,
   "metadata": {},
   "outputs": [
    {
     "data": {
      "text/html": [
       "\n",
       "        <iframe\n",
       "            width=\"900\"\n",
       "            height=\"500\"\n",
       "            src=\"./graph.html\"\n",
       "            frameborder=\"0\"\n",
       "            allowfullscreen\n",
       "        ></iframe>\n",
       "        "
      ],
      "text/plain": [
       "<IPython.lib.display.IFrame at 0x7ffba3291d68>"
      ]
     },
     "execution_count": 11,
     "metadata": {},
     "output_type": "execute_result"
    }
   ],
   "source": [
    "from IPython.display import IFrame\n",
    "\n",
    "IFrame(src='./chat_graph.html', width=900, height=500)"
   ]
  },
  {
   "cell_type": "markdown",
   "metadata": {},
   "source": [
    "### Treinando as stories e gerando o gráfico\n",
    "\n",
    "Na celula abaixo é feito o treinamento das stories e é gerado o gráfico da matriz de confusão para a avaliação das stories. Para melhor visualização, após rodar o código, abra o arquivo `story_eval.pdf` que será gerado e salvado na pasta `img` deste notebook."
   ]
  },
  {
   "cell_type": "code",
   "execution_count": 5,
   "metadata": {},
   "outputs": [
    {
     "name": "stdout",
     "output_type": "stream",
     "text": [
      "usage: evaluate.py [-h] {default,compare} ...\r\n",
      "evaluate.py: error: unrecognized arguments: -d models/dialogue --failed failed_stories.md\r\n"
     ]
    }
   ],
   "source": [
    "import sys\n",
    "python = sys.executable\n",
    "!{python} -m rasa_core.evaluate -d models/dialogue -s ../../bot/data/stories -o matrix.pdf --failed failed_stories.md"
   ]
  },
  {
   "cell_type": "code",
   "execution_count": 6,
   "metadata": {},
   "outputs": [
    {
     "name": "stdout",
     "output_type": "stream",
     "text": [
      "cat: failed_stories.md: No such file or directory\r\n"
     ]
    }
   ],
   "source": [
    "%cat failed_stories.md"
   ]
  }
 ],
 "metadata": {
  "colab": {
   "collapsed_sections": [
    "y4miuS-TqYcn",
    "BBF6Nqi9scQE",
    "Fs3nOUzBsqrG",
    "5MnGuFRpzzBh"
   ],
   "default_view": {},
   "name": "Building a Simple Bot with Rasa Stack - Tutorial",
   "provenance": [
    {
     "file_id": "1GutDkDXmfU-nRzNH7Pxxx8YpdvLUw9LO",
     "timestamp": 1521183725373
    }
   ],
   "toc_visible": true,
   "version": "0.3.2",
   "views": {}
  },
  "kernelspec": {
   "display_name": "Python 3",
   "language": "python",
   "name": "python3"
  },
  "language_info": {
   "codemirror_mode": {
    "name": "ipython",
    "version": 3
   },
   "file_extension": ".py",
   "mimetype": "text/x-python",
   "name": "python",
   "nbconvert_exporter": "python",
   "pygments_lexer": "ipython3",
   "version": "3.6.8"
  }
 },
 "nbformat": 4,
 "nbformat_minor": 1
}
